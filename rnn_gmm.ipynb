{
 "cells": [
  {
   "cell_type": "code",
   "execution_count": 152,
   "metadata": {},
   "outputs": [],
   "source": [
    "import pandas as pd\n",
    "import numpy as np\n",
    "import matplotlib.pyplot as plt\n",
    "import seaborn as sns\n",
    "import torch\n",
    "from torch import nn\n",
    "import pyro\n",
    "import pyro.distributions as dist\n",
    "from pyro.infer import SVI, TraceEnum_ELBO, Predictive, NUTS, MCMC, config_enumerate\n",
    "from pyro.infer.autoguide import AutoDelta, AutoDiagonalNormal, AutoMultivariateNormal\n",
    "from pyro.optim import Adam, ClippedAdam\n",
    "from torch.utils.data import Dataset\n",
    "from torch.utils.data import DataLoader"
   ]
  },
  {
   "cell_type": "code",
   "execution_count": 153,
   "metadata": {},
   "outputs": [],
   "source": [
    "X_train_tensor, X_val_tensor, X_test_tensor = torch.load(\"./data/X_train_tensor.pt\"), \\\n",
    "                                                torch.load(\"./data/X_val_tensor.pt\"), \\\n",
    "                                                torch.load(\"./data/X_test_tensor.pt\")\n",
    "U_train_tensor, U_val_tensor, U_test_tensor = torch.load(\"./data/U_train_tensor.pt\"), \\\n",
    "                                                torch.load(\"./data/U_val_tensor.pt\"), \\\n",
    "                                                torch.load(\"./data/U_test_tensor.pt\")\n",
    "N_t_train, N_t_valid, N_t_test = np.load(\"./data/N_t_train.npy\"), \\\n",
    "                                np.load(\"./data/N_t_val.npy\"), \\\n",
    "                                np.load(\"./data/N_t_test.npy\")\n"
   ]
  },
  {
   "cell_type": "code",
   "execution_count": 157,
   "metadata": {},
   "outputs": [],
   "source": [
    "class RFNDataset(Dataset):\n",
    "    \"\"\"Spatio-temporal demand modelling dataset.\"\"\"\n",
    "    def __init__(self, X, U):\n",
    "        self.X = X\n",
    "        self.U = U\n",
    "\n",
    "    def __len__(self):\n",
    "        return len(self.X)\n",
    "\n",
    "    def __getitem__(self, idx):\n",
    "        if torch.is_tensor(idx):\n",
    "            idx = idx.tolist()\n",
    "        \n",
    "        X_i, U_i = self.X[idx].float(), self.U[idx].float()\n",
    "        return X_i, U_i"
   ]
  },
  {
   "cell_type": "code",
   "execution_count": 240,
   "metadata": {},
   "outputs": [],
   "source": [
    "class RMDN(nn.Module):\n",
    "    def __init__(self, input_dim, hidden_dim, output_dim, K=10):\n",
    "        super(RMDN, self).__init__()\n",
    "        # Define parameters\n",
    "        self.input_dim = input_dim\n",
    "        self.hidden_dim= hidden_dim\n",
    "        self.output_dim= output_dim\n",
    "        self.K = K \n",
    "\n",
    "        # Define LSTM\n",
    "        self.lstm = nn.LSTM(input_size=self.input_dim,\n",
    "                            hidden_size=self.hidden_dim,\n",
    "                            num_layers=1)\n",
    "        # Fully connected layer \n",
    "        self.lstm_to_hidden  = nn.Linear(in_features=self.hidden_dim, out_features=self.hidden_dim)\n",
    "        # Take output of fully connected layer and feed to layers for GMM components\n",
    "        self.hidden_to_loc   = nn.Linear(in_features=self.hidden_dim, out_features=self.K*self.output_dim)\n",
    "        self.hidden_to_scale = nn.Linear(in_features=self.hidden_dim, out_features=self.K*self.output_dim)\n",
    "        self.hidden_to_cov   = nn.Linear(in_features=self.hidden_dim, out_features=self.K)\n",
    "        self.hidden_to_mix   = nn.Linear(in_features=self.hidden_dim, out_features=self.K)\n",
    "        \n",
    "        # Functions\n",
    "        self.relu = nn.ReLU()\n",
    "        self.softmax = nn.Softmax(dim=1)\n",
    "        self.softplus = nn.Softplus()\n",
    "        \n",
    "    def forward(self, U):\n",
    "        \n",
    "        # Feed through LSTM\n",
    "        h, _ = self.lstm(U.view(-1, 1, self.input_dim))\n",
    "        \n",
    "        # Fully connected\n",
    "        h = self.relu(self.lstm_to_hidden(h))\n",
    "        # Compute mean values\n",
    "        loc   = self.hidden_to_loc(h).view(-1, self.K, self.output_dim)\n",
    "        # Compute variances (must be positive)\n",
    "        scale = self.softplus(self.hidden_to_scale(h)).view(-1, self.K, self.output_dim)\n",
    "        # Compute covariances\n",
    "        cov   = self.hidden_to_cov(h)\n",
    "        # Compute mixture components (must sum to 1)\n",
    "        pi    = self.softmax(self.hidden_to_mix(h).view(-1,self.K, 1))\n",
    "        # Create full covariance matrix\n",
    "        Cov = torch.zeros((self.K, self.output_dim, self.output_dim))\n",
    "        for k in range(self.K):\n",
    "            Cov[k, 0, 0] = scale[:, k, 0]\n",
    "            Cov[k, 1, 1] = scale[:, k, 1]\n",
    "            Cov[k, 0, 1] = cov[:, :, k]\n",
    "            Cov[k, 1, 0] = cov[:, :, k]\n",
    "        \n",
    "        return loc, pi, Cov\n",
    "    \n",
    "class PyroRMDN(nn.Module):\n",
    "    def __init__(self, input_dim, hidden_dim, output_dim, K, grid=32):\n",
    "        super(PyroRMDN, self).__init__()\n",
    "        self.RMDN = RMDN(input_dim, hidden_dim, output_dim, K)\n",
    "        self.K = K\n",
    "        self.output_dim = output_dim\n",
    "        self.grid = grid\n",
    "        self.skipped = 0\n",
    "        \n",
    "    def model(self, X=None, U=None, mask=None, batch_size=1):\n",
    "                \n",
    "        # Number of sequences\n",
    "        N = len(U)\n",
    "        # Number of time steps\n",
    "        T_max = U.size(1)\n",
    "        # Batch size\n",
    "        b = min(N, batch_size)\n",
    "\n",
    "        assert U.shape == (N, T_max, self.grid, self.grid)\n",
    "        \n",
    "        x_samples = torch.zeros((b, T_max, max(mask), 2))\n",
    "        \n",
    "        pyro.module(\"RMDN\",self)\n",
    "        \n",
    "        with pyro.plate(\"data\", N, dim=-2):\n",
    "            for t in pyro.markov(range(0, T_max)):\n",
    "                loc, pi, Cov = self.RMDN(U[:, t, :, :])\n",
    "                if mask[t] == 0:\n",
    "                    self.skipped += 1\n",
    "                    continue\n",
    "                \n",
    "                with pyro.plate('density_%d'%t, size=mask[t], dim=-1):\n",
    "                    assignment = pyro.sample('assignment_%d'%t, dist.Categorical(pi.view(-1, 10)))\n",
    "                    _loc = loc[:, assignment, :].view(-1, 2)\n",
    "                    _Cov = Cov[assignment, :, :].view(-1, 2, 2)\n",
    "                    if X is None:\n",
    "                        x_samples[:, t, :mask[t]] = pyro.sample('x_%d'%t, dist.MultivariateNormal(loc=_loc,covariance_matrix=_Cov),obs=None)\n",
    "                    else:\n",
    "                        x_samples[:, t, :mask[t]] = pyro.sample('x_%d'%t, dist.MultivariateNormal(loc=_loc,covariance_matrix=_Cov),obs=X[:, t, :mask[t], :])\n",
    "        return x_samples, loc, pi, Cov\n",
    "    \n",
    "    def guide(self, X=None, U=None, mask=None):\n",
    "        pass\n"
   ]
  },
  {
   "cell_type": "code",
   "execution_count": 6,
   "metadata": {},
   "outputs": [],
   "source": [
    "#### Nmax = 259\n",
    "#net = RMDN(input_dim=K*K, hidden_dim=128, output_dim=2, K=64)\n",
    "#loc, pi, Cov = net(U[:, 0, :, :])"
   ]
  },
  {
   "cell_type": "code",
   "execution_count": 250,
   "metadata": {},
   "outputs": [],
   "source": [
    "dataset  = RFNDataset(X_test_tensor, U_test_tensor)\n",
    "dataloader= DataLoader(dataset, batch_size=1, shuffle=True, num_workers=0)"
   ]
  },
  {
   "cell_type": "code",
   "execution_count": 251,
   "metadata": {},
   "outputs": [],
   "source": [
    "pyronet = PyroRMDN(input_dim=K*K, hidden_dim=10, output_dim=2, K=10)\n",
    "optimizer = pyro.optim.ClippedAdam({\"lr\": 0.001, \"clip_norm\": 5.})\n",
    "svi = SVI(pyronet.model, pyronet.guide, optimizer, TraceEnum_ELBO(num_particles=1, max_plate_nesting=1))"
   ]
  },
  {
   "cell_type": "code",
   "execution_count": null,
   "metadata": {},
   "outputs": [
    {
     "name": "stdout",
     "output_type": "stream",
     "text": [
      "Epoch: 1, Loss: 548132.948\n",
      "Epoch: 100, Loss: 443999.307\n"
     ]
    }
   ],
   "source": [
    "pyro.clear_param_store()\n",
    "num_epochs = 500\n",
    "train_losses = []\n",
    "val_losses = []\n",
    "for i in range(num_epochs):\n",
    "    for x_i, u_i in dataloader:\n",
    "        pyronet.train()\n",
    "        \n",
    "        loss = svi.step(x_i, u_i, N_t_test) /(N_t_test.sum())\n",
    "        del x_i, u_i\n",
    "        train_losses.append(loss)\n",
    "        #pyronet.eval()\n",
    "        #validation_loss = pyronet._get_log_likelihood(X=X_val_tensor, U=U_val_tensor, mask=N_t_valid, \n",
    "                                                      #num_particles=1).sum().item() / N_t_valid.sum()\n",
    "        #val_losses.append(validation_loss)\n",
    "        \n",
    "        if i%100 == 99 or i == 0:\n",
    "            print(\"Epoch: {0}, Loss: {1:.3f}\".format(i+1, loss))#, validation_loss))\n",
    "        "
   ]
  },
  {
   "cell_type": "code",
   "execution_count": 233,
   "metadata": {},
   "outputs": [
    {
     "name": "stdout",
     "output_type": "stream",
     "text": [
      "(1, 718, 32, 32)\n"
     ]
    }
   ],
   "source": [
    "x_samples, loc, pi, Cov = pyronet.model(U=U_val_tensor, mask=N_t_valid, X=X_val_tensor)"
   ]
  },
  {
   "cell_type": "code",
   "execution_count": 224,
   "metadata": {},
   "outputs": [
    {
     "data": {
      "text/plain": [
       "array([ 0, 20])"
      ]
     },
     "execution_count": 224,
     "metadata": {},
     "output_type": "execute_result"
    }
   ],
   "source": [
    "N_t_test[12:14]"
   ]
  },
  {
   "cell_type": "code",
   "execution_count": 205,
   "metadata": {},
   "outputs": [
    {
     "data": {
      "text/plain": [
       "32"
      ]
     },
     "execution_count": 205,
     "metadata": {},
     "output_type": "execute_result"
    }
   ],
   "source": [
    " U_test_tensor[:, 13, :, :].size(1)"
   ]
  },
  {
   "cell_type": "code",
   "execution_count": 206,
   "metadata": {},
   "outputs": [
    {
     "data": {
      "text/plain": [
       "1"
      ]
     },
     "execution_count": 206,
     "metadata": {},
     "output_type": "execute_result"
    }
   ],
   "source": [
    "len(U_test_tensor[:, 13, :, :])"
   ]
  }
 ],
 "metadata": {
  "kernelspec": {
   "display_name": "Python 3",
   "language": "python",
   "name": "python3"
  },
  "language_info": {
   "codemirror_mode": {
    "name": "ipython",
    "version": 3
   },
   "file_extension": ".py",
   "mimetype": "text/x-python",
   "name": "python",
   "nbconvert_exporter": "python",
   "pygments_lexer": "ipython3",
   "version": "3.8.3"
  }
 },
 "nbformat": 4,
 "nbformat_minor": 4
}
